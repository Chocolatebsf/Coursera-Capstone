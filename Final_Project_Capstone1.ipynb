{
 "cells": [
  {
   "cell_type": "markdown",
   "metadata": {},
   "source": [
    "## Introduction: Background and Problem"
   ]
  },
  {
   "cell_type": "markdown",
   "metadata": {},
   "source": [
    "New York City rank number 1 populous city in the Unites States, most visited tourist city, has many districts and landmarks are well known. It has 5 boroughs: The Bronx, Brooklyn, Manhattan, Queens and staten Island and 306 neighborhoods. Moving to New York City is exciting and challenging at that the same time. With that many neighborhoods in the New York City, it is not very easy to find a house that nearby restaurants. The goal of this project is to determine which neighborhoods have most nearby restaurants and rank them by borough. "
   ]
  },
  {
   "cell_type": "markdown",
   "metadata": {},
   "source": [
    "## Data"
   ]
  },
  {
   "cell_type": "markdown",
   "metadata": {},
   "source": [
    "- Using Foursquare API to extract number of restaurants in the neighborhoods.\n",
    "- Using https://geo.nyu.edu website to extract the coordinate of the borough and neighborhood include their\n",
    "> longtitude and latitude.\n",
    "- Using k-means to cluster the data."
   ]
  },
  {
   "cell_type": "code",
   "execution_count": null,
   "metadata": {},
   "outputs": [],
   "source": []
  }
 ],
 "metadata": {
  "kernelspec": {
   "display_name": "Python 3",
   "language": "python",
   "name": "python3"
  },
  "language_info": {
   "codemirror_mode": {
    "name": "ipython",
    "version": 3
   },
   "file_extension": ".py",
   "mimetype": "text/x-python",
   "name": "python",
   "nbconvert_exporter": "python",
   "pygments_lexer": "ipython3",
   "version": "3.7.3"
  }
 },
 "nbformat": 4,
 "nbformat_minor": 2
}
